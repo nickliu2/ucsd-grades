{
 "cells": [
  {
   "cell_type": "code",
   "execution_count": 99,
   "id": "7bdf6e99-cf58-456f-9fa7-9828feeccc5c",
   "metadata": {},
   "outputs": [],
   "source": [
    "from selenium import webdriver\n",
    "from selenium.webdriver.common.by import By\n",
    "from bs4 import BeautifulSoup\n",
    "import json\n",
    "import time\n",
    "import csv"
   ]
  },
  {
   "cell_type": "code",
   "execution_count": 104,
   "id": "2428e175-1c8b-4cd0-872b-88bffae49d65",
   "metadata": {},
   "outputs": [],
   "source": [
    "cookies_raw = json.load(open('academicaffairs.ucsd.edu.cookies.json', 'r'))"
   ]
  },
  {
   "cell_type": "code",
   "execution_count": 105,
   "id": "c6d6cd80-a673-41b1-bf33-0e29eb5af5f4",
   "metadata": {},
   "outputs": [],
   "source": [
    "cookies = {cookie['name']: cookie['value'] for cookie in cookies_raw}"
   ]
  },
  {
   "cell_type": "code",
   "execution_count": 109,
   "id": "03813fe0-9759-49ea-8f3f-b5cc04157c21",
   "metadata": {},
   "outputs": [
    {
     "ename": "AttributeError",
     "evalue": "'NoneType' object has no attribute 'find'",
     "output_type": "error",
     "traceback": [
      "\u001b[1;31m---------------------------------------------------------------------------\u001b[0m",
      "\u001b[1;31mAttributeError\u001b[0m                            Traceback (most recent call last)",
      "Cell \u001b[1;32mIn[109], line 67\u001b[0m\n\u001b[0;32m     64\u001b[0m table \u001b[38;5;241m=\u001b[39m soup\u001b[38;5;241m.\u001b[39mfind(\u001b[38;5;124m\"\u001b[39m\u001b[38;5;124mtable\u001b[39m\u001b[38;5;124m\"\u001b[39m)\n\u001b[0;32m     66\u001b[0m \u001b[38;5;66;03m# Extract table rows\u001b[39;00m\n\u001b[1;32m---> 67\u001b[0m rows \u001b[38;5;241m=\u001b[39m \u001b[43mtable\u001b[49m\u001b[38;5;241;43m.\u001b[39;49m\u001b[43mfind\u001b[49m(\u001b[38;5;124m'\u001b[39m\u001b[38;5;124mtbody\u001b[39m\u001b[38;5;124m'\u001b[39m)\u001b[38;5;241m.\u001b[39mfind_all(\u001b[38;5;124m'\u001b[39m\u001b[38;5;124mtr\u001b[39m\u001b[38;5;124m'\u001b[39m)\n\u001b[0;32m     68\u001b[0m \u001b[38;5;28;01mfor\u001b[39;00m row \u001b[38;5;129;01min\u001b[39;00m rows:\n\u001b[0;32m     69\u001b[0m     cells \u001b[38;5;241m=\u001b[39m row\u001b[38;5;241m.\u001b[39mfind_all(\u001b[38;5;124m'\u001b[39m\u001b[38;5;124mtd\u001b[39m\u001b[38;5;124m'\u001b[39m)\n",
      "\u001b[1;31mAttributeError\u001b[0m: 'NoneType' object has no attribute 'find'"
     ]
    }
   ],
   "source": [
    "driver = webdriver.Chrome()\n",
    "\n",
    "# Load the webpage where you want to use the cookies\n",
    "driver.get(\"http://academicaffairs.ucsd.edu/\")\n",
    "\n",
    "# Load cookies from the JSON file\n",
    "with open('academicaffairs.ucsd.edu.cookies.json', 'r') as file:\n",
    "    cookies_raw = json.load(file)\n",
    "\n",
    "# Add each cookie to the Selenium\n",
    "for cookie in cookies_raw:\n",
    "    driver.add_cookie(cookie)\n",
    "\n",
    "# Refresh the page to apply the cookies\n",
    "driver.refresh()\n",
    "\n",
    "# Get SET Page\n",
    "driver.get(\"http://academicaffairs.ucsd.edu/Modules/Evals/SET/Reports/Search.aspx\")\n",
    "\n",
    "time.sleep(5)\n",
    "\n",
    "# Find the unit dropdown and collect all unit options\n",
    "unit_dropdown = driver.find_element(By.ID, \"ContentPlaceHolder1_EvalsContentPlaceHolder_ddlUnit\")\n",
    "unit_options = unit_dropdown.find_elements(By.TAG_NAME, \"option\")\n",
    "units = [(option.text, option.get_attribute(\"value\")) for option in unit_options if option.get_attribute(\"value\")]\n",
    "with open('scraped_data.csv', 'w', newline='', encoding='utf-8') as file:\n",
    "    writer = csv.writer(file)\n",
    "    writer.writerow(['Instructor', 'Course', 'Term', 'Enrolled/Resp Rate', 'Avg Grade Received', 'Avg Hours Worked', 'Student Learning', 'Course Structure', 'Class Environment'])\n",
    "    \n",
    "    for unit in units:\n",
    "        # Select a unit\n",
    "        unit_dropdown = driver.find_element(By.ID, \"ContentPlaceHolder1_EvalsContentPlaceHolder_ddlUnit\")\n",
    "        for option in unit_dropdown.find_elements(By.TAG_NAME, \"option\"):\n",
    "            if option.get_attribute(\"value\") == unit[1]:\n",
    "                option.click()\n",
    "                break\n",
    "    \n",
    "        # Wait for the course dropdown to be populated\n",
    "        time.sleep(2)\n",
    "        course_dropdown = driver.find_element(By.ID, \"ContentPlaceHolder1_EvalsContentPlaceHolder_ddlCourse\")\n",
    "        course_options = course_dropdown.find_elements(By.TAG_NAME, \"option\")\n",
    "    \n",
    "        # Extract course information\n",
    "        courses = [(option.text, option.get_attribute(\"value\")) for option in course_options if option.get_attribute(\"value\")]\n",
    "    \n",
    "        for course in courses:\n",
    "            # Select a course\n",
    "            course_dropdown = driver.find_element(By.ID, \"ContentPlaceHolder1_EvalsContentPlaceHolder_ddlCourse\")\n",
    "            for option in course_dropdown.find_elements(By.TAG_NAME, \"option\"):\n",
    "                if option.get_attribute(\"value\") == course[1]:\n",
    "                    option.click()\n",
    "                    break\n",
    "    \n",
    "            # Click the search button\n",
    "            search_button = driver.find_element(By.ID, \"ContentPlaceHolder1_EvalsContentPlaceHolder_btnSubmit\")\n",
    "            search_button.click()\n",
    "    \n",
    "            # Wait for the table to load\n",
    "            time.sleep(5)\n",
    "    \n",
    "            # Scrape the table data using BeautifulSoup\n",
    "            soup = BeautifulSoup(driver.page_source, 'html.parser')\n",
    "            # Scrape the SET Teaching Results\n",
    "            table = soup.find(\"table\")\n",
    "        \n",
    "            # Extract table rows\n",
    "            rows = table.find('tbody').find_all('tr')\n",
    "            for row in rows:\n",
    "                cells = row.find_all('td')\n",
    "                row_data = [cell.text.strip() for cell in cells]\n",
    "                writer.writerow([unit[0], course[0]] + row_data)\n",
    "            \n",
    "\n",
    "# Close the browser\n",
    "driver.quit()\n"
   ]
  },
  {
   "cell_type": "code",
   "execution_count": 1,
   "id": "7d5860ce-5b7f-4743-8895-3ae6d247f362",
   "metadata": {},
   "outputs": [],
   "source": [
    "import pandas as pd"
   ]
  },
  {
   "cell_type": "code",
   "execution_count": 15,
   "id": "2a92e2af-231e-4174-bfef-9a0213b3edaf",
   "metadata": {},
   "outputs": [],
   "source": [
    "scraped_data = pd.read_csv('scraped_data.csv')"
   ]
  },
  {
   "cell_type": "markdown",
   "id": "429e97de-4dcb-4b82-9221-574a10620d20",
   "metadata": {},
   "source": [
    "## Cleaning Data &#x1F6AE;\n",
    "After scraping the data, there are some things to clean.\n",
    "#### Todo List\n",
    "- Fix types\n",
    "- Column Names\n",
    "    - Implement naming conventions.\n",
    "- Avg Grade Received Column\n",
    "    - Remove trailing white space and commas\n",
    "- Course Column and Indexes\n",
    "    - Remove redundancy\n",
    "    - Group by instructor, course and term\n",
    "- Enrolled/Resp Rate\n",
    "    - Separate Columns\n",
    "- Term Column\n",
    "    - Make sure terms start from Summer 2023 (when SET was introduced)"
   ]
  },
  {
   "cell_type": "code",
   "execution_count": 17,
   "id": "aebafce9-89ec-4e6a-b9a1-7a6d3d9f4637",
   "metadata": {
    "scrolled": true
   },
   "outputs": [
    {
     "data": {
      "text/html": [
       "<div>\n",
       "<style scoped>\n",
       "    .dataframe tbody tr th:only-of-type {\n",
       "        vertical-align: middle;\n",
       "    }\n",
       "\n",
       "    .dataframe tbody tr th {\n",
       "        vertical-align: top;\n",
       "    }\n",
       "\n",
       "    .dataframe thead th {\n",
       "        text-align: right;\n",
       "    }\n",
       "</style>\n",
       "<table border=\"1\" class=\"dataframe\">\n",
       "  <thead>\n",
       "    <tr style=\"text-align: right;\">\n",
       "      <th></th>\n",
       "      <th></th>\n",
       "      <th>Instructor</th>\n",
       "      <th>Course</th>\n",
       "      <th>Term</th>\n",
       "      <th>Enrolled/Resp Rate</th>\n",
       "      <th>Avg Grade Received</th>\n",
       "      <th>Avg Hours Worked</th>\n",
       "      <th>Student Learning</th>\n",
       "      <th>Course Structure</th>\n",
       "      <th>Class Environment</th>\n",
       "    </tr>\n",
       "  </thead>\n",
       "  <tbody>\n",
       "    <tr>\n",
       "      <th rowspan=\"5\" valign=\"top\">Analytical Writing Program</th>\n",
       "      <th>AWP 3 - Analytical Writing</th>\n",
       "      <td>Given, William Allan</td>\n",
       "      <td>AWP 3 - Analytical Writing (002)</td>\n",
       "      <td>SP24</td>\n",
       "      <td>10(70.00%)</td>\n",
       "      <td>2.37                                          ...</td>\n",
       "      <td>7.29</td>\n",
       "      <td>4.36</td>\n",
       "      <td>4.43</td>\n",
       "      <td>4.54</td>\n",
       "    </tr>\n",
       "    <tr>\n",
       "      <th>AWP 3 - Analytical Writing</th>\n",
       "      <td>Kolodezh, Samuel</td>\n",
       "      <td>AWP 3 - Analytical Writing (009)</td>\n",
       "      <td>SP24</td>\n",
       "      <td>7(42.86%)</td>\n",
       "      <td>1.86                                          ...</td>\n",
       "      <td>8.33</td>\n",
       "      <td>4.67</td>\n",
       "      <td>4.58</td>\n",
       "      <td>4.42</td>\n",
       "    </tr>\n",
       "    <tr>\n",
       "      <th>AWP 3 - Analytical Writing</th>\n",
       "      <td>Gilbert, Peter W</td>\n",
       "      <td>AWP 3 - Analytical Writing (010)</td>\n",
       "      <td>SP24</td>\n",
       "      <td>7(57.14%)</td>\n",
       "      <td>1.81                                          ...</td>\n",
       "      <td>8.00</td>\n",
       "      <td>5.00</td>\n",
       "      <td>5.00</td>\n",
       "      <td>4.88</td>\n",
       "    </tr>\n",
       "    <tr>\n",
       "      <th>AWP 3 - Analytical Writing</th>\n",
       "      <td>Gilbert, Peter W</td>\n",
       "      <td>AWP 3 - Analytical Writing (003)</td>\n",
       "      <td>WI24</td>\n",
       "      <td>7(71.43%)</td>\n",
       "      <td>2.77                                          ...</td>\n",
       "      <td>8.60</td>\n",
       "      <td>4.20</td>\n",
       "      <td>3.90</td>\n",
       "      <td>4.30</td>\n",
       "    </tr>\n",
       "    <tr>\n",
       "      <th>AWP 3 - Analytical Writing</th>\n",
       "      <td>Gilbert, Peter W</td>\n",
       "      <td>AWP 3 - Analytical Writing (004)</td>\n",
       "      <td>WI24</td>\n",
       "      <td>8(100.00%)</td>\n",
       "      <td>3.13                                          ...</td>\n",
       "      <td>6.25</td>\n",
       "      <td>4.41</td>\n",
       "      <td>4.47</td>\n",
       "      <td>4.47</td>\n",
       "    </tr>\n",
       "  </tbody>\n",
       "</table>\n",
       "</div>"
      ],
      "text/plain": [
       "                                                                 Instructor  \\\n",
       "Analytical Writing Program AWP 3 - Analytical Writing  Given, William Allan   \n",
       "                           AWP 3 - Analytical Writing      Kolodezh, Samuel   \n",
       "                           AWP 3 - Analytical Writing      Gilbert, Peter W   \n",
       "                           AWP 3 - Analytical Writing      Gilbert, Peter W   \n",
       "                           AWP 3 - Analytical Writing      Gilbert, Peter W   \n",
       "\n",
       "                                                                                 Course  \\\n",
       "Analytical Writing Program AWP 3 - Analytical Writing  AWP 3 - Analytical Writing (002)   \n",
       "                           AWP 3 - Analytical Writing  AWP 3 - Analytical Writing (009)   \n",
       "                           AWP 3 - Analytical Writing  AWP 3 - Analytical Writing (010)   \n",
       "                           AWP 3 - Analytical Writing  AWP 3 - Analytical Writing (003)   \n",
       "                           AWP 3 - Analytical Writing  AWP 3 - Analytical Writing (004)   \n",
       "\n",
       "                                                       Term  \\\n",
       "Analytical Writing Program AWP 3 - Analytical Writing  SP24   \n",
       "                           AWP 3 - Analytical Writing  SP24   \n",
       "                           AWP 3 - Analytical Writing  SP24   \n",
       "                           AWP 3 - Analytical Writing  WI24   \n",
       "                           AWP 3 - Analytical Writing  WI24   \n",
       "\n",
       "                                                      Enrolled/Resp Rate  \\\n",
       "Analytical Writing Program AWP 3 - Analytical Writing         10(70.00%)   \n",
       "                           AWP 3 - Analytical Writing          7(42.86%)   \n",
       "                           AWP 3 - Analytical Writing          7(57.14%)   \n",
       "                           AWP 3 - Analytical Writing          7(71.43%)   \n",
       "                           AWP 3 - Analytical Writing         8(100.00%)   \n",
       "\n",
       "                                                                                      Avg Grade Received  \\\n",
       "Analytical Writing Program AWP 3 - Analytical Writing  2.37                                          ...   \n",
       "                           AWP 3 - Analytical Writing  1.86                                          ...   \n",
       "                           AWP 3 - Analytical Writing  1.81                                          ...   \n",
       "                           AWP 3 - Analytical Writing  2.77                                          ...   \n",
       "                           AWP 3 - Analytical Writing  3.13                                          ...   \n",
       "\n",
       "                                                       Avg Hours Worked  \\\n",
       "Analytical Writing Program AWP 3 - Analytical Writing              7.29   \n",
       "                           AWP 3 - Analytical Writing              8.33   \n",
       "                           AWP 3 - Analytical Writing              8.00   \n",
       "                           AWP 3 - Analytical Writing              8.60   \n",
       "                           AWP 3 - Analytical Writing              6.25   \n",
       "\n",
       "                                                       Student Learning  \\\n",
       "Analytical Writing Program AWP 3 - Analytical Writing              4.36   \n",
       "                           AWP 3 - Analytical Writing              4.67   \n",
       "                           AWP 3 - Analytical Writing              5.00   \n",
       "                           AWP 3 - Analytical Writing              4.20   \n",
       "                           AWP 3 - Analytical Writing              4.41   \n",
       "\n",
       "                                                       Course Structure  \\\n",
       "Analytical Writing Program AWP 3 - Analytical Writing              4.43   \n",
       "                           AWP 3 - Analytical Writing              4.58   \n",
       "                           AWP 3 - Analytical Writing              5.00   \n",
       "                           AWP 3 - Analytical Writing              3.90   \n",
       "                           AWP 3 - Analytical Writing              4.47   \n",
       "\n",
       "                                                       Class Environment  \n",
       "Analytical Writing Program AWP 3 - Analytical Writing               4.54  \n",
       "                           AWP 3 - Analytical Writing               4.42  \n",
       "                           AWP 3 - Analytical Writing               4.88  \n",
       "                           AWP 3 - Analytical Writing               4.30  \n",
       "                           AWP 3 - Analytical Writing               4.47  "
      ]
     },
     "execution_count": 17,
     "metadata": {},
     "output_type": "execute_result"
    }
   ],
   "source": [
    "scraped_data.head()"
   ]
  },
  {
   "cell_type": "code",
   "execution_count": 19,
   "id": "248970e0-7dee-41f4-8b3f-7facc9b2a9f6",
   "metadata": {
    "scrolled": true
   },
   "outputs": [
    {
     "data": {
      "text/plain": [
       "Index(['Instructor', 'Course', 'Term', 'Enrolled/Resp Rate',\n",
       "       'Avg Grade Received', 'Avg Hours Worked', 'Student Learning',\n",
       "       'Course Structure', 'Class Environment'],\n",
       "      dtype='object')"
      ]
     },
     "execution_count": 19,
     "metadata": {},
     "output_type": "execute_result"
    }
   ],
   "source": [
    "scraped_data.columns"
   ]
  },
  {
   "cell_type": "code",
   "execution_count": 93,
   "id": "305da499-e17b-4197-b3df-d59b704258b3",
   "metadata": {},
   "outputs": [
    {
     "data": {
      "text/plain": [
       "Instructor             object\n",
       "Course                 object\n",
       "Term                   object\n",
       "Enrolled/Resp Rate     object\n",
       "Avg Grade Received     object\n",
       "Avg Hours Worked      float64\n",
       "Student Learning      float64\n",
       "Course Structure      float64\n",
       "Class Environment     float64\n",
       "dtype: object"
      ]
     },
     "execution_count": 93,
     "metadata": {},
     "output_type": "execute_result"
    }
   ],
   "source": [
    "scraped_data.dtypes"
   ]
  },
  {
   "cell_type": "code",
   "execution_count": 89,
   "id": "ba0bca30-094e-4910-966a-e3ddef426b8b",
   "metadata": {
    "scrolled": true
   },
   "outputs": [
    {
     "data": {
      "text/plain": [
       "0      2.37                                          ...\n",
       "1      1.86                                          ...\n",
       "2      1.81                                          ...\n",
       "3      2.77                                          ...\n",
       "4      3.13                                          ...\n",
       "                             ...                        \n",
       "125                                                (N/A)\n",
       "126                                                (N/A)\n",
       "127                                                (N/A)\n",
       "128                                                (N/A)\n",
       "129                                                (N/A)\n",
       "Name: avg_grade, Length: 130, dtype: object"
      ]
     },
     "execution_count": 89,
     "metadata": {},
     "output_type": "execute_result"
    }
   ],
   "source": [
    "df['avg_grade']"
   ]
  },
  {
   "cell_type": "code",
   "execution_count": 53,
   "id": "f28ec415-1970-4142-a280-096403015595",
   "metadata": {},
   "outputs": [],
   "source": [
    "import re"
   ]
  },
  {
   "cell_type": "code",
   "execution_count": 98,
   "id": "f1738d50-9b52-486e-853d-6d16d3b5f5c4",
   "metadata": {},
   "outputs": [
    {
     "data": {
      "text/html": [
       "<div>\n",
       "<style scoped>\n",
       "    .dataframe tbody tr th:only-of-type {\n",
       "        vertical-align: middle;\n",
       "    }\n",
       "\n",
       "    .dataframe tbody tr th {\n",
       "        vertical-align: top;\n",
       "    }\n",
       "\n",
       "    .dataframe thead th {\n",
       "        text-align: right;\n",
       "    }\n",
       "</style>\n",
       "<table border=\"1\" class=\"dataframe\">\n",
       "  <thead>\n",
       "    <tr style=\"text-align: right;\">\n",
       "      <th></th>\n",
       "      <th>instructor</th>\n",
       "      <th>course</th>\n",
       "      <th>term</th>\n",
       "      <th>avg_grade</th>\n",
       "      <th>avg_hours</th>\n",
       "      <th>student_learning_rating</th>\n",
       "      <th>course_structure_rating</th>\n",
       "      <th>class_environment_rating</th>\n",
       "      <th>num_enrolled</th>\n",
       "      <th>resp_rate</th>\n",
       "    </tr>\n",
       "  </thead>\n",
       "  <tbody>\n",
       "    <tr>\n",
       "      <th>0</th>\n",
       "      <td>Given, William Allan</td>\n",
       "      <td>AWP 3 - Analytical Writing</td>\n",
       "      <td>SP24</td>\n",
       "      <td>2.37</td>\n",
       "      <td>7.29</td>\n",
       "      <td>4.36</td>\n",
       "      <td>4.43</td>\n",
       "      <td>4.54</td>\n",
       "      <td>10</td>\n",
       "      <td>0.7000</td>\n",
       "    </tr>\n",
       "    <tr>\n",
       "      <th>1</th>\n",
       "      <td>Kolodezh, Samuel</td>\n",
       "      <td>AWP 3 - Analytical Writing</td>\n",
       "      <td>SP24</td>\n",
       "      <td>1.86</td>\n",
       "      <td>8.33</td>\n",
       "      <td>4.67</td>\n",
       "      <td>4.58</td>\n",
       "      <td>4.42</td>\n",
       "      <td>7</td>\n",
       "      <td>0.4286</td>\n",
       "    </tr>\n",
       "    <tr>\n",
       "      <th>2</th>\n",
       "      <td>Gilbert, Peter W</td>\n",
       "      <td>AWP 3 - Analytical Writing</td>\n",
       "      <td>SP24</td>\n",
       "      <td>1.81</td>\n",
       "      <td>8.00</td>\n",
       "      <td>5.00</td>\n",
       "      <td>5.00</td>\n",
       "      <td>4.88</td>\n",
       "      <td>7</td>\n",
       "      <td>0.5714</td>\n",
       "    </tr>\n",
       "    <tr>\n",
       "      <th>3</th>\n",
       "      <td>Gilbert, Peter W</td>\n",
       "      <td>AWP 3 - Analytical Writing</td>\n",
       "      <td>WI24</td>\n",
       "      <td>2.77</td>\n",
       "      <td>8.60</td>\n",
       "      <td>4.20</td>\n",
       "      <td>3.90</td>\n",
       "      <td>4.30</td>\n",
       "      <td>7</td>\n",
       "      <td>0.7143</td>\n",
       "    </tr>\n",
       "    <tr>\n",
       "      <th>4</th>\n",
       "      <td>Gilbert, Peter W</td>\n",
       "      <td>AWP 3 - Analytical Writing</td>\n",
       "      <td>WI24</td>\n",
       "      <td>3.13</td>\n",
       "      <td>6.25</td>\n",
       "      <td>4.41</td>\n",
       "      <td>4.47</td>\n",
       "      <td>4.47</td>\n",
       "      <td>8</td>\n",
       "      <td>1.0000</td>\n",
       "    </tr>\n",
       "  </tbody>\n",
       "</table>\n",
       "</div>"
      ],
      "text/plain": [
       "             instructor                      course  term  avg_grade  \\\n",
       "0  Given, William Allan  AWP 3 - Analytical Writing  SP24       2.37   \n",
       "1      Kolodezh, Samuel  AWP 3 - Analytical Writing  SP24       1.86   \n",
       "2      Gilbert, Peter W  AWP 3 - Analytical Writing  SP24       1.81   \n",
       "3      Gilbert, Peter W  AWP 3 - Analytical Writing  WI24       2.77   \n",
       "4      Gilbert, Peter W  AWP 3 - Analytical Writing  WI24       3.13   \n",
       "\n",
       "   avg_hours  student_learning_rating  course_structure_rating  \\\n",
       "0       7.29                     4.36                     4.43   \n",
       "1       8.33                     4.67                     4.58   \n",
       "2       8.00                     5.00                     5.00   \n",
       "3       8.60                     4.20                     3.90   \n",
       "4       6.25                     4.41                     4.47   \n",
       "\n",
       "   class_environment_rating  num_enrolled  resp_rate  \n",
       "0                      4.54            10     0.7000  \n",
       "1                      4.42             7     0.4286  \n",
       "2                      4.88             7     0.5714  \n",
       "3                      4.30             7     0.7143  \n",
       "4                      4.47             8     1.0000  "
      ]
     },
     "execution_count": 98,
     "metadata": {},
     "output_type": "execute_result"
    }
   ],
   "source": [
    "df = scraped_data.reset_index()\n",
    "\n",
    "# Separate Enrolled/Resp Rate Column\n",
    "sep = df['Enrolled/Resp Rate'].str.extract(r'(\\d+)\\((\\d+\\.\\d+)%\\)')\n",
    "df['enrolled'] = sep[0].astype(int)\n",
    "df['resp_rate'] = sep[1].astype(float)\n",
    "df['resp_rate'] *= 0.01\n",
    "\n",
    "# Drop irrelevant columns\n",
    "df = df.drop(['level_0', 'level_1', 'Enrolled/Resp Rate'], axis = 1)\n",
    "\n",
    "# Column Names\n",
    "new_columns = ['instructor', 'course', 'term', 'avg_grade', 'avg_hours', 'student_learning_rating', 'course_structure_rating', 'class_environment_rating', 'num_enrolled', 'resp_rate']\n",
    "df.columns = new_columns\n",
    "\n",
    "# Clean course column\n",
    "df['course'] = df['course'].str.replace(r\"\\ \\(\\d{3}\\)\", \"\", regex=True)\n",
    "\n",
    "# Clean avg_grade columns\n",
    "df['avg_grade'] = df['avg_grade'].str.extract(r\"(\\d\\.\\d+)\")\n",
    "df['avg_grade'] = df['avg_grade'].astype('float')\n",
    "\n",
    "\n",
    "df.head()\n"
   ]
  },
  {
   "cell_type": "code",
   "execution_count": 97,
   "id": "c50cd8e5-c4c3-43df-891e-f38df48dfb5e",
   "metadata": {},
   "outputs": [
    {
     "data": {
      "text/plain": [
       "instructor                   object\n",
       "course                       object\n",
       "term                         object\n",
       "avg_grade                   float64\n",
       "avg_hours                   float64\n",
       "student_learning_rating     float64\n",
       "course_structure_rating     float64\n",
       "class_environment_rating    float64\n",
       "num_enrolled                  int64\n",
       "resp_rate                   float64\n",
       "dtype: object"
      ]
     },
     "execution_count": 97,
     "metadata": {},
     "output_type": "execute_result"
    }
   ],
   "source": [
    "df.dtypes"
   ]
  },
  {
   "cell_type": "code",
   "execution_count": 108,
   "id": "b1f438bc-a715-4eaf-be59-3a0b30968ba2",
   "metadata": {},
   "outputs": [
    {
     "data": {
      "text/plain": [
       "course\n",
       "AWP 3 - Analytical Writing       89\n",
       "AWP 4A - Analytical Writing A    41\n",
       "Name: count, dtype: int64"
      ]
     },
     "execution_count": 108,
     "metadata": {},
     "output_type": "execute_result"
    }
   ],
   "source": [
    "df['course'].value_counts()"
   ]
  },
  {
   "cell_type": "code",
   "execution_count": null,
   "id": "5010a4cb-1f9f-4fec-95e2-f9870708ceff",
   "metadata": {},
   "outputs": [],
   "source": []
  }
 ],
 "metadata": {
  "kernelspec": {
   "display_name": "Python 3 (ipykernel)",
   "language": "python",
   "name": "python3"
  },
  "language_info": {
   "codemirror_mode": {
    "name": "ipython",
    "version": 3
   },
   "file_extension": ".py",
   "mimetype": "text/x-python",
   "name": "python",
   "nbconvert_exporter": "python",
   "pygments_lexer": "ipython3",
   "version": "3.9.19"
  }
 },
 "nbformat": 4,
 "nbformat_minor": 5
}
